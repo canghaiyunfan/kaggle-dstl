{
 "cells": [
  {
   "cell_type": "code",
   "execution_count": 2,
   "metadata": {
    "collapsed": true,
    "pycharm": {
     "is_executing": false
    }
   },
   "outputs": [],
   "source": [
    "from collections import defaultdict\n",
    "import csv\n",
    "import sys\n",
    "import os\n",
    "\n",
    "import cv2\n",
    "from shapely.geometry import MultiPolygon, Polygon\n",
    "import shapely.wkt\n",
    "import shapely.affinity\n",
    "import numpy as np\n",
    "import tifffile as tiff\n",
    "\n",
    "csv.field_size_limit(sys.maxsize)\n",
    "\n",
    "ROOT_PATH = \"/data/data_gWkkHSkq/kaggle-dstl\"\n",
    "\n",
    "IM_ID = '6120_2_2'\n",
    "POLY_TYPE = '1'  # buildings"
   ]
  },
  {
   "cell_type": "code",
   "execution_count": null,
   "outputs": [],
   "source": [
    "# Load grid size\n",
    "x_max = y_min = None\n",
    "for _im_id, _x, _y in csv.reader(open(os.path.join(ROOT_PATH,'grid_sizes.csv'))):\n",
    "    if _im_id == IM_ID:\n",
    "        x_max, y_min = float(_x), float(_y)\n",
    "        break\n"
   ],
   "metadata": {
    "collapsed": false,
    "pycharm": {
     "name": "#%%\n"
    }
   }
  },
  {
   "cell_type": "code",
   "execution_count": null,
   "outputs": [],
   "source": [
    "# Load train poly with shapely\n",
    "train_polygons = None\n",
    "for _im_id, _poly_type, _poly in csv.reader(open(os.path.join(ROOT_PATH,'train_wkt_v4.csv'))):\n",
    "    if _im_id == IM_ID and _poly_type == POLY_TYPE:\n",
    "        train_polygons = shapely.wkt.loads(_poly)\n",
    "        break"
   ],
   "metadata": {
    "collapsed": false,
    "pycharm": {
     "name": "#%%\n"
    }
   }
  },
  {
   "cell_type": "code",
   "execution_count": null,
   "outputs": [],
   "source": [
    "# Read image with tiff\n",
    "im_rgb = tiff.imread('/data/data_gWkkHSkq/kaggle-dstl/three_band/{}.tif'.format(IM_ID)).transpose([1, 2, 0])\n",
    "im_size = im_rgb.shape[:2]\n"
   ],
   "metadata": {
    "collapsed": false,
    "pycharm": {
     "name": "#%%\n"
    }
   }
  },
  {
   "cell_type": "code",
   "execution_count": null,
   "outputs": [],
   "source": [
    "#Scale polygons to match image:\n",
    "\n",
    "def get_scalers():\n",
    "    h, w = im_size  # they are flipped so that mask_for_polygons works correctly\n",
    "    w_ = w * (w / (w + 1))\n",
    "    h_ = h * (h / (h + 1))\n",
    "    return w_ / x_max, h_ / y_min\n",
    "\n",
    "x_scaler, y_scaler = get_scalers()\n"
   ],
   "metadata": {
    "collapsed": false,
    "pycharm": {
     "name": "#%%\n"
    }
   }
  }
 ],
 "metadata": {
  "language_info": {
   "codemirror_mode": {
    "name": "ipython",
    "version": 2
   },
   "file_extension": ".py",
   "mimetype": "text/x-python",
   "name": "python",
   "nbconvert_exporter": "python",
   "pygments_lexer": "ipython2",
   "version": "2.7.6"
  },
  "kernelspec": {
   "name": "pycharm-4b17745e",
   "language": "python",
   "display_name": "PyCharm (kaggle-dstl)"
  },
  "pycharm": {
   "stem_cell": {
    "cell_type": "raw",
    "source": [],
    "metadata": {
     "collapsed": false
    }
   }
  }
 },
 "nbformat": 4,
 "nbformat_minor": 0
}